{
 "cells": [
  {
   "cell_type": "markdown",
   "id": "84730131",
   "metadata": {},
   "source": [
    "# Perceptron Sigmoid Function and Image Classification"
   ]
  },
  {
   "cell_type": "code",
   "execution_count": 3,
   "id": "2d2bf287",
   "metadata": {},
   "outputs": [],
   "source": [
    "import numpy as np\n",
    "\n",
    "class ThreeLayerPerceptron:\n",
    "    def __init__(self, input_dim, hidden_dim, output_dim):\n",
    "        self.input_dim = input_dim\n",
    "        self.hidden_dim = hidden_dim\n",
    "        self.output_dim = output_dim\n",
    "        \n",
    "        # Initialize weights with random values\n",
    "        self.W1 = np.random.randn(input_dim, hidden_dim)\n",
    "        self.b1 = np.zeros((1, hidden_dim))\n",
    "        self.W2 = np.random.randn(hidden_dim, output_dim)\n",
    "        self.b2 = np.zeros((1, output_dim))\n",
    "        \n",
    "    def sigmoid(self, x):\n",
    "        return 1 / (1 + np.exp(-x))\n",
    "    def forward(self, X):\n",
    "        # Hidden layer\n",
    "        self.z1 = np.dot(X, self.W1) + self.b1\n",
    "        self.a1 = self.sigmoid(self.z1)\n",
    "        \n",
    "        # Output layer\n",
    "        self.z2 = np.dot(self.a1, self.W2) + self.b2\n",
    "        self.a2 = self.sigmoid(self.z2)\n",
    "        \n",
    "        return self.a2\n",
    "    def backward(self, X, y, output):\n",
    "        # Output layer\n",
    "        self.delta2 = (output - y) * (self.a2 * (1 - self.a2))\n",
    "        dW2 = np.dot(self.a1.T, self.delta2)\n",
    "        db2 = np.sum(self.delta2, axis=0, keepdims=True)\n",
    "         # Hidden layer\n",
    "        self.delta1 = np.dot(self.delta2, self.W2.T) * (self.a1 * (1 - self.a1))\n",
    "        dW1 = np.dot(X.T, self.delta1)\n",
    "        db1 = np.sum(self.delta1, axis=0)\n",
    "        \n",
    "        # Update weights\n",
    "        self.W1 -= dW1\n",
    "        self.b1 -= db1\n",
    "        self.W2 -= dW2\n",
    "        self.b2 -= db2\n",
    "    \n",
    "    def train(self, X, y, epochs):\n",
    "        for i in range(epochs):\n",
    "            output = self.forward(X)\n",
    "            self.backward(X, y, output)\n",
    "    \n",
    "    def predict(self, X):\n",
    "        output = self.forward(X)\n",
    "        return np.round(output)"
   ]
  },
  {
   "cell_type": "code",
   "execution_count": 2,
   "id": "34e2ed36",
   "metadata": {},
   "outputs": [
    {
     "name": "stdout",
     "output_type": "stream",
     "text": [
      "Epoch 1/5\n",
      "1875/1875 [==============================] - 9s 4ms/step - loss: 0.7762 - accuracy: 0.8166 - val_loss: 0.4786 - val_accuracy: 0.8825\n",
      "Epoch 2/5\n",
      "1875/1875 [==============================] - 6s 3ms/step - loss: 0.4550 - accuracy: 0.8804 - val_loss: 0.3996 - val_accuracy: 0.8957\n",
      "Epoch 3/5\n",
      "1875/1875 [==============================] - 7s 4ms/step - loss: 0.4026 - accuracy: 0.8917 - val_loss: 0.3677 - val_accuracy: 0.9003\n",
      "Epoch 4/5\n",
      "1875/1875 [==============================] - 8s 4ms/step - loss: 0.3763 - accuracy: 0.8975 - val_loss: 0.3490 - val_accuracy: 0.9064\n",
      "Epoch 5/5\n",
      "1875/1875 [==============================] - 7s 4ms/step - loss: 0.3597 - accuracy: 0.9008 - val_loss: 0.3366 - val_accuracy: 0.9079\n",
      "313/313 [==============================] - 1s 3ms/step - loss: 0.3366 - accuracy: 0.9079\n"
     ]
    },
    {
     "data": {
      "text/plain": [
       "[0.3366267681121826, 0.9078999757766724]"
      ]
     },
     "execution_count": 2,
     "metadata": {},
     "output_type": "execute_result"
    }
   ],
   "source": [
    "import tensorflow as tf\n",
    "from tensorflow.keras.datasets import mnist\n",
    "\n",
    "# Load MNIST dataset\n",
    "(x_train, y_train), (x_test, y_test) = mnist.load_data()\n",
    "\n",
    "# Normalize pixel values to between 0 and 1\n",
    "x_train, x_test = x_train / 255.0, x_test / 255.0\n",
    "\n",
    "# Create Perceptron model\n",
    "model = tf.keras.models.Sequential([\n",
    "  tf.keras.layers.Flatten(input_shape=(28, 28)),\n",
    "  tf.keras.layers.Dense(10, activation='sigmoid')\n",
    "])\n",
    "\n",
    "# Compile model\n",
    "model.compile(optimizer='sgd',\n",
    "              loss='sparse_categorical_crossentropy',\n",
    "              metrics=['accuracy'])\n",
    "\n",
    "# Train model\n",
    "model.fit(x_train, y_train, epochs=5, validation_data=(x_test, y_test))\n",
    "\n",
    "# Evaluate model\n",
    "model.evaluate(x_test, y_test)"
   ]
  },
  {
   "cell_type": "code",
   "execution_count": null,
   "id": "f251015d",
   "metadata": {},
   "outputs": [],
   "source": []
  }
 ],
 "metadata": {
  "kernelspec": {
   "display_name": "Python 3 (ipykernel)",
   "language": "python",
   "name": "python3"
  },
  "language_info": {
   "codemirror_mode": {
    "name": "ipython",
    "version": 3
   },
   "file_extension": ".py",
   "mimetype": "text/x-python",
   "name": "python",
   "nbconvert_exporter": "python",
   "pygments_lexer": "ipython3",
   "version": "3.10.4"
  }
 },
 "nbformat": 4,
 "nbformat_minor": 5
}
